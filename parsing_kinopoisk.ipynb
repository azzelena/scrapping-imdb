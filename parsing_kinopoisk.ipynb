{
 "cells": [
  {
   "cell_type": "markdown",
   "metadata": {},
   "source": [
    "# Imports"
   ]
  },
  {
   "cell_type": "code",
   "execution_count": 1,
   "metadata": {
    "scrolled": true
   },
   "outputs": [],
   "source": [
    "import scrapy\n",
    "from scrapy.http import HtmlResponse\n",
    "from scrapy import Selector\n",
    "\n",
    "import requests\n",
    "\n",
    "import re\n",
    "\n",
    "import json"
   ]
  },
  {
   "cell_type": "markdown",
   "metadata": {},
   "source": [
    "# Load'n'Cook"
   ]
  },
  {
   "cell_type": "code",
   "execution_count": 3,
   "metadata": {},
   "outputs": [],
   "source": [
    "DEBUG_URL = 'https://www.imdb.com/search/name/?gender=male%2Cfemale&ref_=nv_cel_m'\n",
    "\n",
    "req = requests.get(DEBUG_URL)\n",
    "response = HtmlResponse(url=DEBUG_URL, body=req.content)\n",
    "\n",
    "selector = Selector(response=response)\n"
   ]
  },
  {
   "cell_type": "code",
   "execution_count": 4,
   "metadata": {},
   "outputs": [],
   "source": [
    "urls_actors = []\n",
    "\n",
    "for i in range(0, 50):\n",
    "    urls_actors.append('https://www.imdb.com' + selector.xpath('.//*[@class=\"lister-list\"]'\n",
    "               '/div[@class=\"lister-item mode-detail\"]'\n",
    "              '/div[@class=\"lister-item-content\"]/h3/a/@href')[i].extract())"
   ]
  },
  {
   "cell_type": "code",
   "execution_count": 9,
   "metadata": {},
   "outputs": [],
   "source": [
    "# получение селекторов\n",
    "def get_selectors(urls_actors):\n",
    "    \n",
    "    selectors = []\n",
    "    DEBUG_URLS = urls_actors\n",
    "\n",
    "    for url in range (0,len(urls_actors)):\n",
    "        req_url = requests.get(DEBUG_URLS[url])\n",
    "        response_url = HtmlResponse(url=DEBUG_URLS[url], body=req_url.content)\n",
    "    \n",
    "        selectors.append(Selector(response=response_url))\n",
    "        \n",
    "    return selectors    "
   ]
  },
  {
   "cell_type": "code",
   "execution_count": 130,
   "metadata": {},
   "outputs": [],
   "source": [
    "selectors_test = get_selectors(urls_actors)"
   ]
  },
  {
   "cell_type": "code",
   "execution_count": 131,
   "metadata": {},
   "outputs": [],
   "source": [
    "def xpath_selectors(selectors, urls_actors):\n",
    "    xpath_lists_bio = []\n",
    "    xpath_lists_born = []\n",
    "    xpath_lists_movies = []\n",
    "    xpath_lists_name = []\n",
    "    xpath_lists_url = []\n",
    "    \n",
    "    \n",
    "    for s in range(len(selectors)):\n",
    "        xpath_lists_bio.append(selectors[s].xpath('.//*[@class=\"name-trivia-bio-text\"]/div//text()').extract())\n",
    "        xpath_lists_born.append(selectors[s].xpath('.//*[@id=\"name-born-info\"]/time/@datetime').extract())\n",
    "        \n",
    "        if len(selectors_test[0].xpath('.//*[@class=\"filmo-category-section\"]'\n",
    "                             '/div[@class=\"filmo-row odd\" or \"filmo-row even\"]/b/a/text()'\n",
    "                             ).extract())>15:\n",
    "            xpath_lists_movies.append(selectors[s].xpath('.//*[@class=\"filmo-category-section\"]'\n",
    "                             '/div[@class=\"filmo-row odd\" or \"filmo-row even\"]/b/a/text()'\n",
    "                             ).extract()[:15])\n",
    "        else:\n",
    "            xpath_lists_movies.append(selectors[s].xpath('.//*[@class=\"filmo-category-section\"]'\n",
    "                             '/div[@class=\"filmo-row odd\" or \"filmo-row even\"]/b/a/text()'\n",
    "                             ).extract())\n",
    "            \n",
    "        xpath_lists_name.append(selectors[s].xpath('.//*[@class=\"itemprop\"]/text()')[0].extract())\n",
    "        \n",
    "        xpath_lists_url.append(urls_actors[s]+'/')\n",
    "    \n",
    "    return xpath_lists_bio,xpath_lists_born,xpath_lists_movies,xpath_lists_name,xpath_lists_url"
   ]
  },
  {
   "cell_type": "code",
   "execution_count": 132,
   "metadata": {},
   "outputs": [],
   "source": [
    "xpath_lists_bio,xpath_lists_born,xpath_lists_movies,xpath_lists_name,xpath_lists_url = xpath_selectors(selectors_test,urls_actors)"
   ]
  },
  {
   "cell_type": "code",
   "execution_count": 117,
   "metadata": {},
   "outputs": [],
   "source": [
    "def clean_bio(xpaths_selectors):\n",
    "    \n",
    "    bios_clean = []\n",
    "    \n",
    "    for j in range(0, len(xpaths_selectors)):\n",
    "        test_list_new = []\n",
    "        for i in range(0, len(xpaths_selectors[j])):\n",
    "            test_list_new.append(xpaths_selectors[j][i].replace(\"\\n\", \"\"))\n",
    "            test_list_new = [ele for ele in test_list_new if ele.strip() and ele!='See full bio']\n",
    "            test_list_new_res = test_list_new[:-1]\n",
    "            test_list_new_res = ''.join(test_list_new_res)\n",
    "            test_list_new_res = re.sub(' +', ' ',test_list_new_res)\n",
    "            test_list_new_res = \"\".join(test_list_new_res.rstrip())\n",
    "            \n",
    "        bios_clean.append(test_list_new_res)\n",
    "        \n",
    "    return bios_clean"
   ]
  },
  {
   "cell_type": "code",
   "execution_count": 199,
   "metadata": {},
   "outputs": [],
   "source": [
    "clean_bios = clean_bio(xpath_lists_bio)"
   ]
  },
  {
   "cell_type": "code",
   "execution_count": 186,
   "metadata": {},
   "outputs": [],
   "source": [
    "def make_dict(clean_bios):\n",
    "    all_dictionaries = []\n",
    "    for n in range(len(clean_bios)):\n",
    "        all_dictionaries.append({'bio': clean_bios[n], 'born': ''.join(map(str, xpath_lists_born[n])), 'movies': xpath_lists_movies[n], 'name': xpath_lists_name[n],\n",
    "                                'url':xpath_lists_url[n]})\n",
    "        \n",
    "        if all_dictionaries[n]['born']=='':\n",
    "            all_dictionaries[n]['born']=None\n",
    "        \n",
    "        \n",
    "    return all_dictionaries"
   ]
  },
  {
   "cell_type": "code",
   "execution_count": 200,
   "metadata": {},
   "outputs": [],
   "source": [
    "dict_first_5 = make_dict(clean_bios)"
   ]
  },
  {
   "cell_type": "code",
   "execution_count": 209,
   "metadata": {},
   "outputs": [],
   "source": [
    "with open('test_2.jl', 'w') as f:\n",
    "    f.write('\\n'.join(map(json.dumps, dict_first_5)))"
   ]
  },
  {
   "cell_type": "markdown",
   "metadata": {},
   "source": [
    "# Поиск топ-15 популярных фильмов"
   ]
  },
  {
   "cell_type": "code",
   "execution_count": 51,
   "metadata": {},
   "outputs": [],
   "source": [
    "def get_movies_urls(selectors):\n",
    "    \n",
    "    xpath_lists_urls_movies = []\n",
    "    \n",
    "    for s in range(len(selectors)):  \n",
    "        \n",
    "        if len(selectors[s].xpath('.//*[@class=\"filmo-category-section\"]'\n",
    "                             '/div[@class=\"filmo-row odd\" or \"filmo-row even\"]/b/a/@href'\n",
    "                             ).extract())>15:\n",
    "            for i in range(15):\n",
    "                xpath_lists_urls_movies.append('https://www.imdb.com' + selectors[s].xpath('.//*[@class=\"filmo-category-section\"]'\n",
    "                             '/div[@class=\"filmo-row odd\" or \"filmo-row even\"]/b/a/@href'\n",
    "                             )[i].extract())\n",
    "        else:\n",
    "            for i in range(len(selectors[s].xpath('.//*[@class=\"filmo-category-section\"]'\n",
    "                             '/div[@class=\"filmo-row odd\" or \"filmo-row even\"]/b/a/@href'\n",
    "                             ).extract())):\n",
    "                xpath_lists_urls_movies.append('https://www.imdb.com' + selectors[s].xpath('.//*[@class=\"filmo-category-section\"]'\n",
    "                             '/div[@class=\"filmo-row odd\" or \"filmo-row even\"]/b/a/@href'\n",
    "                             )[i].extract())\n",
    "        \n",
    "    return xpath_lists_urls_movies"
   ]
  },
  {
   "cell_type": "code",
   "execution_count": 74,
   "metadata": {},
   "outputs": [],
   "source": [
    "def get_selectors_movies(urls_movies):\n",
    "    \n",
    "    selectors = []\n",
    "    DEBUG_URLS = urls_movies\n",
    "\n",
    "    for url in range (0,len(urls_movies)):\n",
    "        req_url = requests.get(DEBUG_URLS[url])\n",
    "        response_url = HtmlResponse(url=DEBUG_URLS[url], body=req_url.content)\n",
    "    \n",
    "        selectors.append(Selector(response=response_url))\n",
    "        \n",
    "    return selectors    "
   ]
  },
  {
   "cell_type": "code",
   "execution_count": 123,
   "metadata": {},
   "outputs": [],
   "source": [
    "selectors_movies = get_selectors_movies(xpath_lists_urls_movies)"
   ]
  },
  {
   "cell_type": "code",
   "execution_count": 105,
   "metadata": {},
   "outputs": [],
   "source": [
    "def get_movies_cast(selectors):\n",
    "    \n",
    "    xpath_lists_movies_cast = []\n",
    "    xpath_lists_movies_cast_matches = []\n",
    "    \n",
    "    for s in range(len(selectors)): \n",
    "        \n",
    "        xpath_lists_movies_cast.append(selectors[s].xpath('.//*[@data-testid=\"title-cast-item__actor\"]/text()').extract())\n",
    "        \n",
    "        xpath_lists_movies_cast_matches.append([x for x in xpath_lists_movies_cast[s] if x in xpath_lists_name])\n",
    "        \n",
    "    return xpath_lists_movies_cast_matches\n",
    "\n",
    "    \n"
   ]
  },
  {
   "cell_type": "code",
   "execution_count": 134,
   "metadata": {},
   "outputs": [],
   "source": [
    "xpath_lists_movies_cast_matches = get_movies_cast(selectors_movies)"
   ]
  },
  {
   "cell_type": "code",
   "execution_count": 135,
   "metadata": {},
   "outputs": [],
   "source": [
    "xpath_lists_urls_movies = get_movies_urls(selectors_test)"
   ]
  },
  {
   "cell_type": "code",
   "execution_count": 144,
   "metadata": {},
   "outputs": [],
   "source": [
    "def make_dict_movies():\n",
    "    all_dictionaries = []\n",
    "    for n in range(len(xpath_lists_movies)):\n",
    "        for t in range(len(xpath_lists_movies[n])):\n",
    "            all_dictionaries.append({'url': xpath_lists_urls_movies[t],\n",
    "                                    'title': xpath_lists_movies[n][t],\n",
    "                                    'cast': xpath_lists_movies_cast_matches[t]})\n",
    "        \n",
    "        \n",
    "    return all_dictionaries"
   ]
  },
  {
   "cell_type": "code",
   "execution_count": 145,
   "metadata": {},
   "outputs": [],
   "source": [
    "all_dictionaries_movies = make_dict_movies()"
   ]
  },
  {
   "cell_type": "code",
   "execution_count": 149,
   "metadata": {},
   "outputs": [],
   "source": [
    "import json\n",
    "with open('test_movies.jl', 'w') as f:\n",
    "    f.write('\\n'.join(map(json.dumps, all_dictionaries_movies)))"
   ]
  },
  {
   "cell_type": "code",
   "execution_count": null,
   "metadata": {},
   "outputs": [],
   "source": []
  },
  {
   "cell_type": "markdown",
   "metadata": {},
   "source": [
    "Пример с обходом страниц"
   ]
  },
  {
   "cell_type": "code",
   "execution_count": null,
   "metadata": {},
   "outputs": [],
   "source": [
    "import scrapy\n",
    "from scrapy.http import HtmlResponse\n",
    "from scrapy import Selector\n",
    "\n",
    "import requests"
   ]
  },
  {
   "cell_type": "code",
   "execution_count": null,
   "metadata": {
    "scrolled": true
   },
   "outputs": [],
   "source": [
    "# dataclass\n",
    "\n",
    "class MovieItem(scrapy.Item):\n",
    "    title = scrapy.Field()\n",
    "    rating = scrapy.Field()\n",
    "    summary = scrapy.Field()\n",
    "    genre = scrapy.Field()\n",
    "    runtime = scrapy.Field()\n",
    "    directors = scrapy.Field()\n",
    "    writers = scrapy.Field()\n",
    "    cast = scrapy.Field()\n",
    "\n",
    "class ActorItem(scrapy.Item):\n",
    "    actor_name = scrapy.Field()\n",
    "    character = scrapy.Field()"
   ]
  },
  {
   "cell_type": "code",
   "execution_count": null,
   "metadata": {
    "scrolled": true
   },
   "outputs": [],
   "source": [
    "class ImdbSpider(scrapy.Spider):\n",
    "    name = \"imdb\"\n",
    "    allowed_domains = [\"imdb.com\"]\n",
    "    base_url = \"https://imdb.com\"\n",
    "    start_urls = ['https://www.imdb.com/chart/top',]\n",
    "   \n",
    "    def parse(self, response):\n",
    "        table_rows = response.xpath(\n",
    "            './/*[@class=\"chart full-width\" and @data-caller-name=\"chart-top250movie\"]/'\n",
    "            'tbody[@class=\"lister-list\"]/tr'\n",
    "        \n",
    "        )\n",
    "        for row in table_rows:\n",
    "            rating = row.xpath(\"./td[@class='ratingColumn imdbRating']/strong/text()\").extract_first(),\n",
    "            rel_url = row.xpath(\"td[@class='titleColumn']/a/@href\").extract_first().strip()\n",
    "            row_url = self.base_url + rel_url\n",
    "            yield scrapy.Request(row_url, callback=self.parseOneMovie, meta={'rating' : rating})\n",
    "    \n",
    "    def parseOneMovie(self, response):\n",
    "        item = MovieItem()\n",
    "        item[\"rating\"] = response.meta[\"rating\"][0]\n",
    "        item['title'] = response.xpath('.//*/div[@class=\"title_wrapper\"]/h1/text()').extract_first().strip()\n",
    "        item[\"summary\"] = response.xpath(\".//*/div[@class='summary_text']/text()\").extract_first().strip()\n",
    "        item['directors'] = response.xpath('.//*/div[@class=\"credit_summary_item\"]/a/text()').extract_first().strip()\n",
    "        item['writers'] = response.xpath('.//*/div[@class=\"credit_summary_item\"]/a/text()').extract()[1].strip()\n",
    "\n",
    "        item[\"cast\"] = list()\n",
    "\n",
    "        for cast in response.xpath(\".//table[@class='cast_list']/tr\")[1:]:\n",
    "            actor = ActorItem()\n",
    "            \n",
    "            actor[\"actor_name\"] = cast.xpath(\"./td[2]/a/text()\").extract_first().strip()\n",
    "            actor[\"character\"] = cast.xpath(\"./td[@class='character']/a/text()\").extract_first()\n",
    "            \n",
    "            item[\"cast\"].append(actor)\n",
    "\n",
    "        return item"
   ]
  },
  {
   "cell_type": "code",
   "execution_count": null,
   "metadata": {},
   "outputs": [],
   "source": [
    "from scrapy.crawler import CrawlerProcess"
   ]
  },
  {
   "cell_type": "code",
   "execution_count": null,
   "metadata": {
    "scrolled": true
   },
   "outputs": [],
   "source": [
    "process = CrawlerProcess()\n",
    "\n",
    "process.crawl(ImdbSpider)\n",
    "process.start()"
   ]
  },
  {
   "cell_type": "code",
   "execution_count": null,
   "metadata": {
    "scrolled": true
   },
   "outputs": [],
   "source": []
  },
  {
   "cell_type": "code",
   "execution_count": null,
   "metadata": {},
   "outputs": [],
   "source": [
    "DEBUG_URL = 'http://www.imdb.com/title/tt0019254/'\n",
    "\n",
    "req = requests.get(DEBUG_URL)\n",
    "response = HtmlResponse(url=DEBUG_URL, body=req.content)\n",
    "\n",
    "selector = Selector(response=response)\n"
   ]
  },
  {
   "cell_type": "code",
   "execution_count": null,
   "metadata": {},
   "outputs": [],
   "source": [
    "selector.xpath(\".//table[@class='cast_list']/tr\")"
   ]
  }
 ],
 "metadata": {
  "kernelspec": {
   "display_name": "Python 3",
   "language": "python",
   "name": "python3"
  },
  "language_info": {
   "codemirror_mode": {
    "name": "ipython",
    "version": 3
   },
   "file_extension": ".py",
   "mimetype": "text/x-python",
   "name": "python",
   "nbconvert_exporter": "python",
   "pygments_lexer": "ipython3",
   "version": "3.7.11"
  },
  "toc": {
   "base_numbering": 1,
   "nav_menu": {},
   "number_sections": true,
   "sideBar": true,
   "skip_h1_title": false,
   "title_cell": "Table of Contents",
   "title_sidebar": "Contents",
   "toc_cell": false,
   "toc_position": {},
   "toc_section_display": true,
   "toc_window_display": true
  },
  "varInspector": {
   "cols": {
    "lenName": 16,
    "lenType": 16,
    "lenVar": 40
   },
   "kernels_config": {
    "python": {
     "delete_cmd_postfix": "",
     "delete_cmd_prefix": "del ",
     "library": "var_list.py",
     "varRefreshCmd": "print(var_dic_list())"
    },
    "r": {
     "delete_cmd_postfix": ") ",
     "delete_cmd_prefix": "rm(",
     "library": "var_list.r",
     "varRefreshCmd": "cat(var_dic_list()) "
    }
   },
   "types_to_exclude": [
    "module",
    "function",
    "builtin_function_or_method",
    "instance",
    "_Feature"
   ],
   "window_display": false
  }
 },
 "nbformat": 4,
 "nbformat_minor": 4
}
